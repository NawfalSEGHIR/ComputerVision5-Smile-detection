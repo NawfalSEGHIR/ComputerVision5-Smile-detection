{
 "cells": [
  {
   "cell_type": "code",
   "execution_count": 5,
   "id": "311645a7-3dfd-46b7-ba91-233d860c7b79",
   "metadata": {},
   "outputs": [],
   "source": [
    "# import Open CV libraries\n",
    "\n",
    "import cv2"
   ]
  },
  {
   "cell_type": "code",
   "execution_count": 6,
   "id": "4ca0f965-5ab0-4c64-9a69-e80037011e54",
   "metadata": {},
   "outputs": [],
   "source": [
    "# Loading the Haar cascades\n",
    "\n",
    "face_cascade = cv2.CascadeClassifier('haarcascades/haarcascade_frontalface_default.xml')\n",
    "smile_cascade = cv2.CascadeClassifier('haarcascades/haarcascade_smile.xml')"
   ]
  },
  {
   "cell_type": "code",
   "execution_count": 7,
   "id": "6365a95a-cfb8-4c1d-b5ff-9aba541d7eea",
   "metadata": {},
   "outputs": [],
   "source": [
    "# use the webcam as input\n",
    "\n",
    "capture = cv2.VideoCapture(0)"
   ]
  },
  {
   "cell_type": "code",
   "execution_count": null,
   "id": "1ee96911-3adf-44c6-a50e-404b45d41fce",
   "metadata": {},
   "outputs": [],
   "source": [
    "while True:\n",
    "    \n",
    "    response, frame = capture.read() # Capture frame-by-frame\n",
    "    gray = cv2.cvtColor(frame, cv2.COLOR_BGR2GRAY) # transform RGB to Gray \n",
    "\n",
    "    face = face_cascade.detectMultiScale(gray, 1.3, 5) # call the face cascade framework\n",
    "    \n",
    "    for (x, y, w, h) in face:\n",
    "        cv2.rectangle(frame, (x, y), (x+w, y+h), (0, 250, 0), 2) # draw a green rectangle on the detected face\n",
    "        \n",
    "        cropped_gray = gray[y:y+h, x:x+w]\n",
    "        cropped_color = frame[y:y+h, x:x+w]\n",
    "        \n",
    "        smile = smile_cascade.detectMultiScale(cropped_gray, 1.6, 22)\n",
    "        \n",
    "        for (sx, sy, sw, sh) in smile:\n",
    "            cv2.rectangle(cropped_color, (sx, sy), (sx+sw, sy+sh), (0, 0, 255), 2) # draw a red rectangle on the detected smile\n",
    "            \n",
    " # displaying the frame with fps and name it 'Smile Detector'\n",
    "\n",
    "    cv2.imshow('Smile Detector', frame)\n",
    "    if cv2.waitKey(1) & 0xFF == ord('q'):\n",
    "        break\n",
    "\n",
    "\n",
    "capture.release() # When everything done, release the capture\n",
    "cv2.destroyAllWindows() # Destroy the all windows now"
   ]
  }
 ],
 "metadata": {
  "kernelspec": {
   "display_name": "Python 3",
   "language": "python",
   "name": "python3"
  },
  "language_info": {
   "codemirror_mode": {
    "name": "ipython",
    "version": 3
   },
   "file_extension": ".py",
   "mimetype": "text/x-python",
   "name": "python",
   "nbconvert_exporter": "python",
   "pygments_lexer": "ipython3",
   "version": "3.8.8"
  }
 },
 "nbformat": 4,
 "nbformat_minor": 5
}
